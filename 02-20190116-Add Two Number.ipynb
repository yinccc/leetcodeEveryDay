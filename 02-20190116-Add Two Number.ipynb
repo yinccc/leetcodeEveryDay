{
 "cells": [
  {
   "cell_type": "markdown",
   "metadata": {},
   "source": [
    "You are given two non-empty linked lists representing two non-negative integers. The digits are stored in reverse order and each of their nodes contain a single digit. Add the two numbers and return it as a linked list.\n",
    "\n",
    "You may assume the two numbers do not contain any leading zero, except the number 0 itself.\n",
    "\n",
    "Example:\n",
    "\n",
    "Input: (2 -> 4 -> 3) + (5 -> 6 -> 4)\n",
    "Output: 7 -> 0 -> 8\n",
    "Explanation: 342 + 465 = 807."
   ]
  },
  {
   "cell_type": "code",
   "execution_count": 1,
   "metadata": {},
   "outputs": [],
   "source": [
    "class ListNode:\n",
    "    def __init__(self, x):\n",
    "        self.val = x\n",
    "        self.next = None"
   ]
  },
  {
   "cell_type": "code",
   "execution_count": 2,
   "metadata": {},
   "outputs": [],
   "source": [
    "l1=ListNode(2)\n",
    "l2=ListNode(4)\n",
    "l3=ListNode(3)\n",
    "l4=ListNode(5)\n",
    "l5=ListNode(6)\n",
    "l6=ListNode(4)"
   ]
  },
  {
   "cell_type": "code",
   "execution_count": 3,
   "metadata": {},
   "outputs": [],
   "source": [
    "l1.next=l2\n",
    "l2.next=l3\n",
    "l4.next=l5\n",
    "l5.next=l6"
   ]
  },
  {
   "cell_type": "code",
   "execution_count": 4,
   "metadata": {},
   "outputs": [],
   "source": [
    "def addTwoNumbers(l1, l2):\n",
    "        \"\"\"\n",
    "        :type l1: ListNode\n",
    "        :type l2: ListNode\n",
    "        :rtype: ListNode\n",
    "        \"\"\"\n",
    "        count=0\n",
    "        number1=0\n",
    "        number2=0\n",
    "        largerThanten=0\n",
    "        \n",
    "        number3=l1.val+l2.val+largerThanten\n",
    "        \n",
    "        number1=number1+l1.val*pow(10,count)\n",
    "        number2=number2+l2.val*pow(10,count)\n",
    "        \n",
    "        head=ListNode(number3)\n",
    "        cur=head\n",
    "        while(l1.next!=None):\n",
    "            l1=l1.next\n",
    "            l2=l2.next\n",
    "            count+=1\n",
    "            number1=number1+l1.val*pow(10,count)\n",
    "            number2=number2+l2.val*pow(10,count)\n",
    "            \n",
    "            number3=l1.val+l2.val+largerThanten\n",
    "            \n",
    "            if(number3>=10):\n",
    "                number3=number3-10\n",
    "                largerThanten=1\n",
    "            else:\n",
    "                largerThanten=0\n",
    "            cur.next=ListNode(number3)\n",
    "            cur=cur.next\n",
    "            \n",
    "        \n",
    "        print(number1)\n",
    "        print(number2)\n",
    "        number3=number1+number2\n",
    "        return head"
   ]
  },
  {
   "cell_type": "code",
   "execution_count": 5,
   "metadata": {},
   "outputs": [
    {
     "name": "stdout",
     "output_type": "stream",
     "text": [
      "342\n",
      "465\n"
     ]
    }
   ],
   "source": [
    "returnNode=addTwoNumbers(l1,l4)"
   ]
  },
  {
   "cell_type": "code",
   "execution_count": 6,
   "metadata": {},
   "outputs": [
    {
     "name": "stdout",
     "output_type": "stream",
     "text": [
      "7\n"
     ]
    }
   ],
   "source": [
    "print(returnNode.val)"
   ]
  },
  {
   "cell_type": "code",
   "execution_count": 7,
   "metadata": {},
   "outputs": [
    {
     "name": "stdout",
     "output_type": "stream",
     "text": [
      "0\n"
     ]
    }
   ],
   "source": [
    "print(returnNode.next.val)"
   ]
  },
  {
   "cell_type": "code",
   "execution_count": 8,
   "metadata": {},
   "outputs": [
    {
     "name": "stdout",
     "output_type": "stream",
     "text": [
      "8\n"
     ]
    }
   ],
   "source": [
    "print(returnNode.next.next.val)"
   ]
  },
  {
   "cell_type": "code",
   "execution_count": 9,
   "metadata": {},
   "outputs": [
    {
     "name": "stdout",
     "output_type": "stream",
     "text": [
      "None\n"
     ]
    }
   ],
   "source": [
    "print(returnNode.next.next.next)"
   ]
  },
  {
   "cell_type": "code",
   "execution_count": 11,
   "metadata": {},
   "outputs": [],
   "source": [
    "class ListNode:\n",
    "    def __init__(self, x):\n",
    "        self.val = x\n",
    "        self.next = None"
   ]
  },
  {
   "cell_type": "code",
   "execution_count": 25,
   "metadata": {},
   "outputs": [],
   "source": [
    "class Solution:\n",
    "# @return a ListNode\n",
    "    def addTwoNumbers(self, l1, l2):\n",
    "        carry = 0\n",
    "        root = n = ListNode(0)\n",
    "        while l1 or l2 or carry:\n",
    "            v1 = v2 = 0\n",
    "            if l1:\n",
    "                v1 = l1.val\n",
    "                l1 = l1.next\n",
    "            if l2:\n",
    "                v2 = l2.val\n",
    "                l2 = l2.next\n",
    "            carry, val = divmod(v1+v2+carry, 10)\n",
    "            n.next = ListNode(val)\n",
    "            n = n.next\n",
    "        return root.next"
   ]
  },
  {
   "cell_type": "code",
   "execution_count": 26,
   "metadata": {},
   "outputs": [],
   "source": [
    "l1=ListNode(2)\n",
    "l2=ListNode(4)\n",
    "l3=ListNode(3)\n",
    "\n",
    "l4=ListNode(5)\n",
    "l5=ListNode(6)\n",
    "l6=ListNode(4)"
   ]
  },
  {
   "cell_type": "code",
   "execution_count": 27,
   "metadata": {},
   "outputs": [],
   "source": [
    "l1.next=l2\n",
    "l2.next=l3\n",
    "l4.next=l5\n",
    "l5.next=l6"
   ]
  },
  {
   "cell_type": "code",
   "execution_count": 28,
   "metadata": {},
   "outputs": [],
   "source": [
    "S=Solution()\n",
    "head=S.addTwoNumbers(l1,l4)"
   ]
  },
  {
   "cell_type": "code",
   "execution_count": 29,
   "metadata": {},
   "outputs": [
    {
     "data": {
      "text/plain": [
       "7"
      ]
     },
     "execution_count": 29,
     "metadata": {},
     "output_type": "execute_result"
    }
   ],
   "source": [
    "head.val"
   ]
  }
 ],
 "metadata": {
  "kernelspec": {
   "display_name": "Python 3",
   "language": "python",
   "name": "python3"
  },
  "language_info": {
   "codemirror_mode": {
    "name": "ipython",
    "version": 3
   },
   "file_extension": ".py",
   "mimetype": "text/x-python",
   "name": "python",
   "nbconvert_exporter": "python",
   "pygments_lexer": "ipython3",
   "version": "3.7.1"
  }
 },
 "nbformat": 4,
 "nbformat_minor": 2
}
