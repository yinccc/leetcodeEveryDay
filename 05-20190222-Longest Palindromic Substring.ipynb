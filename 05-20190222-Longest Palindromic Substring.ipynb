{
 "cells": [
  {
   "cell_type": "code",
   "execution_count": 10,
   "metadata": {},
   "outputs": [],
   "source": [
    "def longestPalindrome(s):\n",
    "    res = \"\"\n",
    "    for i in range(len(s)):\n",
    "        # odd case, like \"aba\"\n",
    "        tmp = helper(s, i, i)\n",
    "        if len(tmp) > len(res):\n",
    "            res = tmp\n",
    "        # even case, like \"abba\"\n",
    "        tmp = helper(s, i, i+1)\n",
    "        if len(tmp) > len(res):\n",
    "            res = tmp\n",
    "    return res\n",
    " \n",
    "# get the longest palindrome, l, r are the middle indexes   \n",
    "# from inner to outer\n",
    "def helper(s, l, r):\n",
    "    while l >= 0 and r < len(s) and s[l] == s[r]:\n",
    "        l -= 1; r += 1\n",
    "    return s[l+1:r]"
   ]
  },
  {
   "cell_type": "code",
   "execution_count": 15,
   "metadata": {},
   "outputs": [
    {
     "data": {
      "text/plain": [
       "'aba'"
      ]
     },
     "execution_count": 15,
     "metadata": {},
     "output_type": "execute_result"
    }
   ],
   "source": [
    "longestPalindrome('aba')"
   ]
  },
  {
   "cell_type": "code",
   "execution_count": 20,
   "metadata": {},
   "outputs": [],
   "source": [
    "def substring(s,l,r):\n",
    "    while l>=0 and r<len(s) and s[l]==s[r]:\n",
    "        l-=1\n",
    "        r+=1\n",
    "    return s[l+1:r]\n",
    "\n",
    "def LongestPalidrome(s):\n",
    "    res=''\n",
    "    for i in range(len(s)):\n",
    "        #odd case\n",
    "        temp=substring(s,i,i)\n",
    "        if len(temp)>len(res):\n",
    "            res=temp\n",
    "        #even case\n",
    "        temp=substring(s,i,i+1)\n",
    "        if len(temp)>len(res):\n",
    "            res=temp\n",
    "    return res"
   ]
  },
  {
   "cell_type": "code",
   "execution_count": 21,
   "metadata": {},
   "outputs": [
    {
     "data": {
      "text/plain": [
       "'abbbbbbba'"
      ]
     },
     "execution_count": 21,
     "metadata": {},
     "output_type": "execute_result"
    }
   ],
   "source": [
    "LongestPalidrome('abbbbbbba')"
   ]
  }
 ],
 "metadata": {
  "kernelspec": {
   "display_name": "Python [conda env:deep]",
   "language": "python",
   "name": "conda-env-deep-py"
  },
  "language_info": {
   "codemirror_mode": {
    "name": "ipython",
    "version": 3
   },
   "file_extension": ".py",
   "mimetype": "text/x-python",
   "name": "python",
   "nbconvert_exporter": "python",
   "pygments_lexer": "ipython3",
   "version": "3.6.6"
  }
 },
 "nbformat": 4,
 "nbformat_minor": 2
}
