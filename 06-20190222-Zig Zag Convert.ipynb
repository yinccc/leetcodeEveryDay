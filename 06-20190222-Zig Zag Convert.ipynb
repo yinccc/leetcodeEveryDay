{
 "cells": [
  {
   "cell_type": "code",
   "execution_count": 20,
   "metadata": {},
   "outputs": [],
   "source": [
    "def convert(s,rowNumber):\n",
    "    if(rowNumber==1 or rowNumber>=len(s)):\n",
    "        return s\n",
    "    \n",
    "    row=['']*rowNumber\n",
    "    index,step=0,1\n",
    "    for x in s:\n",
    "        row[index]+=x\n",
    "        if(index==0):\n",
    "            step=1\n",
    "        elif(index==rowNumber-1):\n",
    "            step=-1\n",
    "        index+=step\n",
    "    return ''.join(row)"
   ]
  },
  {
   "cell_type": "code",
   "execution_count": 23,
   "metadata": {},
   "outputs": [
    {
     "data": {
      "text/plain": [
       "'aeibdfhjcgk'"
      ]
     },
     "execution_count": 23,
     "metadata": {},
     "output_type": "execute_result"
    }
   ],
   "source": [
    "convert('abcdefghijk',3)"
   ]
  }
 ],
 "metadata": {
  "kernelspec": {
   "display_name": "Python [conda env:deep]",
   "language": "python",
   "name": "conda-env-deep-py"
  },
  "language_info": {
   "codemirror_mode": {
    "name": "ipython",
    "version": 3
   },
   "file_extension": ".py",
   "mimetype": "text/x-python",
   "name": "python",
   "nbconvert_exporter": "python",
   "pygments_lexer": "ipython3",
   "version": "3.6.6"
  }
 },
 "nbformat": 4,
 "nbformat_minor": 2
}
