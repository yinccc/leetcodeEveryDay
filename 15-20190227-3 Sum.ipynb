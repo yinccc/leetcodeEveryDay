{
 "cells": [
  {
   "cell_type": "code",
   "execution_count": 20,
   "metadata": {},
   "outputs": [],
   "source": [
    "class Solution:\n",
    "    def ThreeSum(self,listInt):\n",
    "        listInt.sort()\n",
    "        res=[]\n",
    "        for i in range(len(listInt)-2):\n",
    "            if i>0 and listInt[i]==listInt[i-1]:\n",
    "                continue\n",
    "            l=i+1\n",
    "            r=len(listInt)-1\n",
    "            while l<r:\n",
    "                if(listInt[i]+listInt[l]+listInt[r]<0):\n",
    "                    l=l+1\n",
    "                elif(listInt[i]+listInt[l]+listInt[r]>0):\n",
    "                    r=r-1\n",
    "                else:\n",
    "                    res.append([listInt[i],listInt[l],listInt[r]])\n",
    "                    while l<r and listInt[l]==listInt[l+1]:\n",
    "                        l=l+1\n",
    "                    while l<r and listInt[r]==listInt[r-1]:\n",
    "                        r=r-1\n",
    "                    l=l+1\n",
    "                    r=r-1\n",
    "        return res"
   ]
  },
  {
   "cell_type": "code",
   "execution_count": 22,
   "metadata": {},
   "outputs": [],
   "source": [
    "class Solution2:\n",
    "    def threeSum(self, nums):\n",
    "        res = []\n",
    "        nums.sort()\n",
    "        for i in range(len(nums)-2):\n",
    "            if i>0 and nums[i] == nums[i-1]:\n",
    "                continue\n",
    "            l, r = i+1, len(nums)-1\n",
    "            while l < r:\n",
    "                s = nums[i] + nums[l] + nums[r]\n",
    "                if s < 0:\n",
    "                    l +=1 \n",
    "                elif s > 0:\n",
    "                    r -= 1\n",
    "                else:\n",
    "                    res.append((nums[i], nums[l], nums[r]))\n",
    "                    while l < r and nums[l] == nums[l+1]:\n",
    "                        l += 1\n",
    "                    while l < r and nums[r] == nums[r-1]:\n",
    "                        r -= 1\n",
    "                    l += 1; r -= 1\n",
    "        return res"
   ]
  },
  {
   "cell_type": "code",
   "execution_count": 23,
   "metadata": {},
   "outputs": [
    {
     "data": {
      "text/plain": [
       "[[-2, -1, 3], [-2, 0, 2], [-1, 0, 1]]"
      ]
     },
     "execution_count": 23,
     "metadata": {},
     "output_type": "execute_result"
    }
   ],
   "source": [
    "S=Solution()\n",
    "S.ThreeSum([-1,-2,0,1,2,3])"
   ]
  },
  {
   "cell_type": "code",
   "execution_count": 24,
   "metadata": {},
   "outputs": [
    {
     "data": {
      "text/plain": [
       "[(-2, -1, 3), (-2, 0, 2), (-1, 0, 1)]"
      ]
     },
     "execution_count": 24,
     "metadata": {},
     "output_type": "execute_result"
    }
   ],
   "source": [
    "s2=Solution2()\n",
    "s2.threeSum([-1,-2,0,1,2,3])"
   ]
  }
 ],
 "metadata": {
  "kernelspec": {
   "display_name": "Python 3",
   "language": "python",
   "name": "python3"
  },
  "language_info": {
   "codemirror_mode": {
    "name": "ipython",
    "version": 3
   },
   "file_extension": ".py",
   "mimetype": "text/x-python",
   "name": "python",
   "nbconvert_exporter": "python",
   "pygments_lexer": "ipython3",
   "version": "3.6.8"
  }
 },
 "nbformat": 4,
 "nbformat_minor": 2
}
