{
 "cells": [
  {
   "cell_type": "code",
   "execution_count": 14,
   "metadata": {},
   "outputs": [],
   "source": [
    "class Solution:\n",
    "    def threeSumcloset(self,nums,target):\n",
    "        nums.sort()\n",
    "        res=nums[0]+nums[1]+nums[2]\n",
    "        for i in range(len(nums)-2):\n",
    "            l,r=i+1,len(nums)-1\n",
    "            while l<r:\n",
    "                Sum=nums[i]+nums[l]+nums[r]\n",
    "\n",
    "                if Sum==target:\n",
    "                    return Sum\n",
    "                if abs(res-target)>abs(Sum-target):\n",
    "                    res=Sum\n",
    "                if Sum>target:\n",
    "                    r=r-1\n",
    "                elif Sum<target:\n",
    "                    l=l+1\n",
    "        return res"
   ]
  },
  {
   "cell_type": "code",
   "execution_count": 15,
   "metadata": {},
   "outputs": [
    {
     "data": {
      "text/plain": [
       "6"
      ]
     },
     "execution_count": 15,
     "metadata": {},
     "output_type": "execute_result"
    }
   ],
   "source": [
    "S=Solution()\n",
    "S.threeSumcloset([1,2,3,4,5,6,7,8,9],0)"
   ]
  }
 ],
 "metadata": {
  "kernelspec": {
   "display_name": "Python 3",
   "language": "python",
   "name": "python3"
  },
  "language_info": {
   "codemirror_mode": {
    "name": "ipython",
    "version": 3
   },
   "file_extension": ".py",
   "mimetype": "text/x-python",
   "name": "python",
   "nbconvert_exporter": "python",
   "pygments_lexer": "ipython3",
   "version": "3.6.8"
  }
 },
 "nbformat": 4,
 "nbformat_minor": 2
}
