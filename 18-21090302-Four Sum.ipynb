{
 "cells": [
  {
   "cell_type": "code",
   "execution_count": 13,
   "metadata": {},
   "outputs": [],
   "source": [
    "def foursum(nums,target):\n",
    "    res=[]\n",
    "    nums.sort()\n",
    "    length=len(nums)\n",
    "    for i in range(length-3):\n",
    "        if i!=0 and nums[i]==nums[i-1]:\n",
    "            continue\n",
    "        for j in range(length-1,i+2,-1):\n",
    "            if j<length-1 and nums[j]==nums[j+1]:\n",
    "                continue\n",
    "            target2=target-nums[i]-nums[j]\n",
    "            low=i+1\n",
    "            high=j-1\n",
    "            while low<high:\n",
    "                sum2=nums[low]+nums[high]\n",
    "                if sum2>target2:\n",
    "                    high=high-1\n",
    "                if sum2<target2:\n",
    "                    low=low+1\n",
    "                else:\n",
    "                    ans=[nums[i],nums[j],nums[high],nums[low]]\n",
    "                    ans.sort()\n",
    "                    res.append(ans)\n",
    "                    while low<high and nums[low]==nums[low+1]:\n",
    "                        low=low+1\n",
    "                    while low<high and nums[high]==nums[high+1]:\n",
    "                        high=high-1\n",
    "                    high,low=high-1,low+1\n",
    "    return res"
   ]
  },
  {
   "cell_type": "code",
   "execution_count": 10,
   "metadata": {},
   "outputs": [],
   "source": [
    "a=[1,0,-1,0,-2,2]"
   ]
  },
  {
   "cell_type": "code",
   "execution_count": 11,
   "metadata": {},
   "outputs": [
    {
     "data": {
      "text/plain": [
       "[[-2, -1, 1, 2], [-2, 0, 0, 2], [-1, 0, 0, 2], [-1, 0, 0, 1], [0, 0, 0, 2]]"
      ]
     },
     "execution_count": 11,
     "metadata": {},
     "output_type": "execute_result"
    }
   ],
   "source": [
    "foursum(a,0)"
   ]
  },
  {
   "cell_type": "code",
   "execution_count": 7,
   "metadata": {},
   "outputs": [],
   "source": [
    "class Solution:\n",
    "    def fourSum(self, nums, target):\n",
    "        result=[]\n",
    "        length=len(nums)\n",
    "        nums.sort()\n",
    "        for i in range(0,length-3):\n",
    "            if i!=0 and nums[i]==nums[i-1]:\n",
    "                continue\n",
    "            if nums[i]*4>target:\n",
    "                break\n",
    "            for j in range(length-1,i+2,-1):\n",
    "                if j!=length-1 and nums[j]==nums[j+1]:\n",
    "                    continue\n",
    "                if nums[j]*4<target:\n",
    "                    break\n",
    "                sub2=target-nums[i]-nums[j]\n",
    "                low,high=i+1,j-1\n",
    "                while low<high:\n",
    "                    sum2=nums[low]+nums[high]\n",
    "                    if sum2>sub2:\n",
    "                        high-=1\n",
    "                    elif sum2<sub2:\n",
    "                        low+=1\n",
    "                    else:\n",
    "                        ans = [nums[i],nums[low],nums[high],nums[j]]\n",
    "                        ans.sort()\n",
    "                        result.append(ans)\n",
    "                        while low<high and nums[low+1]==nums[low]:\n",
    "                            low+=1\n",
    "                        while low<high and nums[high-1]==nums[high]:\n",
    "                            high-=1\n",
    "                        high,low=high-1,low+1\n",
    "        return result"
   ]
  },
  {
   "cell_type": "code",
   "execution_count": 14,
   "metadata": {},
   "outputs": [
    {
     "data": {
      "text/plain": [
       "[[-2, -1, 1, 2], [-2, 0, 0, 2], [-1, 0, 0, 1]]"
      ]
     },
     "execution_count": 14,
     "metadata": {},
     "output_type": "execute_result"
    }
   ],
   "source": [
    "s=Solution()\n",
    "s.fourSum(a,0)"
   ]
  }
 ],
 "metadata": {
  "kernelspec": {
   "display_name": "Python 3",
   "language": "python",
   "name": "python3"
  },
  "language_info": {
   "codemirror_mode": {
    "name": "ipython",
    "version": 3
   },
   "file_extension": ".py",
   "mimetype": "text/x-python",
   "name": "python",
   "nbconvert_exporter": "python",
   "pygments_lexer": "ipython3",
   "version": "3.6.8"
  }
 },
 "nbformat": 4,
 "nbformat_minor": 2
}
