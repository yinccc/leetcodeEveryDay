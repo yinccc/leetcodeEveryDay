{
 "cells": [
  {
   "cell_type": "code",
   "execution_count": 1,
   "metadata": {},
   "outputs": [],
   "source": [
    "class ListNode:\n",
    "    def __init(self,val):\n",
    "        self.val=val\n",
    "        self.next=None"
   ]
  },
  {
   "cell_type": "code",
   "execution_count": 4,
   "metadata": {},
   "outputs": [],
   "source": [
    "def SwapNodesinPairs(head):\n",
    "    temp=ListNode(0)\n",
    "    \n",
    "    prev=temp\n",
    "    curr=head\n",
    "    prev.next=head\n",
    "    if curr:\n",
    "        nxt=curr.next\n",
    "    while curr and curr.next and nxt:\n",
    "        curr.next=nxt.next\n",
    "        nxt.next=curr\n",
    "        prev.next=nxt\n",
    "        \n",
    "        if curr and curr.next:\n",
    "            curr=curr.next\n",
    "            nxt=curr.next\n",
    "            prev=prev.next.next\n",
    "            \n",
    "    return temp.next\n",
    "    "
   ]
  }
 ],
 "metadata": {
  "kernelspec": {
   "display_name": "Python 3",
   "language": "python",
   "name": "python3"
  },
  "language_info": {
   "codemirror_mode": {
    "name": "ipython",
    "version": 3
   },
   "file_extension": ".py",
   "mimetype": "text/x-python",
   "name": "python",
   "nbconvert_exporter": "python",
   "pygments_lexer": "ipython3",
   "version": "3.6.8"
  }
 },
 "nbformat": 4,
 "nbformat_minor": 2
}
