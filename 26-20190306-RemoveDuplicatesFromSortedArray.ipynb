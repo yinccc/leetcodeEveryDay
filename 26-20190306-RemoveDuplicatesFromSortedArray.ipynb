{
 "cells": [
  {
   "cell_type": "code",
   "execution_count": 28,
   "metadata": {},
   "outputs": [],
   "source": [
    "def remove(nums):\n",
    "    if len(nums)==0:\n",
    "        return 0\n",
    "    elif len(nums)==1:\n",
    "        return 1\n",
    "    p=1\n",
    "    prev=nums[0]\n",
    "    for i in range(1,len(nums)):\n",
    "        if nums[i]==prev:\n",
    "            continue\n",
    "        nums[p]=nums[i]\n",
    "        p+=1\n",
    "        prev=nums[i]\n",
    "    return nums"
   ]
  },
  {
   "cell_type": "code",
   "execution_count": 30,
   "metadata": {},
   "outputs": [
    {
     "data": {
      "text/plain": [
       "[0, 1, 2, 3, 4, 5, 6, 7, 8, 9, 5, 6, 7, 8, 9]"
      ]
     },
     "execution_count": 30,
     "metadata": {},
     "output_type": "execute_result"
    }
   ],
   "source": [
    "remove([0,0,1,1,1,2,2,3,3,4,5,6,7,8,9])"
   ]
  },
  {
   "cell_type": "code",
   "execution_count": 3,
   "metadata": {},
   "outputs": [],
   "source": [
    "def removeagain(nums):\n",
    "    if len(nums)==0:\n",
    "        return 0\n",
    "    elif len(nums)==1:\n",
    "        return 1\n",
    "    p=1\n",
    "    prev=nums[0]\n",
    "    for i in range(1,len(nums)):\n",
    "        if nums[i]==prev:\n",
    "            continue\n",
    "        nums[p]=nums[i]\n",
    "        p=p+1\n",
    "        prev=nums[i]\n",
    "    return p"
   ]
  },
  {
   "cell_type": "code",
   "execution_count": 4,
   "metadata": {},
   "outputs": [
    {
     "data": {
      "text/plain": [
       "10"
      ]
     },
     "execution_count": 4,
     "metadata": {},
     "output_type": "execute_result"
    }
   ],
   "source": [
    "removeagain([0,0,1,1,1,2,2,3,3,4,5,6,7,8,9])"
   ]
  },
  {
   "cell_type": "code",
   "execution_count": null,
   "metadata": {},
   "outputs": [],
   "source": []
  }
 ],
 "metadata": {
  "kernelspec": {
   "display_name": "Python 3",
   "language": "python",
   "name": "python3"
  },
  "language_info": {
   "codemirror_mode": {
    "name": "ipython",
    "version": 3
   },
   "file_extension": ".py",
   "mimetype": "text/x-python",
   "name": "python",
   "nbconvert_exporter": "python",
   "pygments_lexer": "ipython3",
   "version": "3.6.8"
  }
 },
 "nbformat": 4,
 "nbformat_minor": 2
}
