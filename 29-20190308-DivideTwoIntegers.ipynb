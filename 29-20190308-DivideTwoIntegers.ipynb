{
 "cells": [
  {
   "cell_type": "code",
   "execution_count": 5,
   "metadata": {},
   "outputs": [],
   "source": [
    "def DivideTwoIntegers(dividend,divisor):\n",
    "    neg=((dividend<0)!=(divisor<0))\n",
    "    Q=1\n",
    "    ans=0\n",
    "    dividend=left=abs(dividend)\n",
    "    divisor=div=abs(divisor)\n",
    "    while left>=divisor:\n",
    "        left=left-div\n",
    "        ans+=Q\n",
    "        Q+=Q\n",
    "        div+=div\n",
    "        if left<div:\n",
    "            div=divisor\n",
    "            Q=1\n",
    "    if neg:\n",
    "        return max(-ans,-2147483648)\n",
    "    else:\n",
    "        return min(ans,2147483647)"
   ]
  },
  {
   "cell_type": "code",
   "execution_count": 7,
   "metadata": {},
   "outputs": [
    {
     "data": {
      "text/plain": [
       "40"
      ]
     },
     "execution_count": 7,
     "metadata": {},
     "output_type": "execute_result"
    }
   ],
   "source": [
    "DivideTwoIntegers(1000,25)"
   ]
  }
 ],
 "metadata": {
  "kernelspec": {
   "display_name": "Python 3",
   "language": "python",
   "name": "python3"
  },
  "language_info": {
   "codemirror_mode": {
    "name": "ipython",
    "version": 3
   },
   "file_extension": ".py",
   "mimetype": "text/x-python",
   "name": "python",
   "nbconvert_exporter": "python",
   "pygments_lexer": "ipython3",
   "version": "3.6.8"
  }
 },
 "nbformat": 4,
 "nbformat_minor": 2
}
