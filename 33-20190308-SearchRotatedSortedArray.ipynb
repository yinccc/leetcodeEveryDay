{
 "cells": [
  {
   "cell_type": "code",
   "execution_count": 4,
   "metadata": {},
   "outputs": [],
   "source": [
    "def search(nums,target):\n",
    "    if not nums:\n",
    "        return -1\n",
    "    low,high=0,len(nums)-1\n",
    "    while low<=high:\n",
    "        mid=int((low+high)/2)\n",
    "        if nums[mid]==target:\n",
    "            return mid\n",
    "        if nums[low]<=nums[mid]:\n",
    "            if nums[low]<=target<=nums[mid]:\n",
    "                high=mid-1\n",
    "            else:\n",
    "                low=mid+1\n",
    "        else:\n",
    "            if nums[mid]<=target<=nums[high]:\n",
    "                low=mid+1\n",
    "            else:\n",
    "                high=mid-1\n",
    "    return -1"
   ]
  },
  {
   "cell_type": "code",
   "execution_count": 5,
   "metadata": {},
   "outputs": [],
   "source": [
    "a=[7,8,9,1,2,4,5,6]"
   ]
  },
  {
   "cell_type": "code",
   "execution_count": 8,
   "metadata": {},
   "outputs": [
    {
     "data": {
      "text/plain": [
       "-1"
      ]
     },
     "execution_count": 8,
     "metadata": {},
     "output_type": "execute_result"
    }
   ],
   "source": [
    "search(a,10)"
   ]
  }
 ],
 "metadata": {
  "kernelspec": {
   "display_name": "Python 3",
   "language": "python",
   "name": "python3"
  },
  "language_info": {
   "codemirror_mode": {
    "name": "ipython",
    "version": 3
   },
   "file_extension": ".py",
   "mimetype": "text/x-python",
   "name": "python",
   "nbconvert_exporter": "python",
   "pygments_lexer": "ipython3",
   "version": "3.6.8"
  }
 },
 "nbformat": 4,
 "nbformat_minor": 2
}
