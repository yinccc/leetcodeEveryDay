{
 "cells": [
  {
   "cell_type": "code",
   "execution_count": 1,
   "metadata": {},
   "outputs": [],
   "source": [
    "def searchTarget(nums,target):\n",
    "    for i in range(len(nums)):\n",
    "        if nums[i]==target:\n",
    "            leftidx=i\n",
    "            break\n",
    "    else:\n",
    "        return [-1,-1]\n",
    "    for j in range(len(nums)-1,-1,-1):\n",
    "        if nums[j]==target:\n",
    "            rightidx=j\n",
    "            break\n",
    "    return [leftidx,rightidx]"
   ]
  },
  {
   "cell_type": "code",
   "execution_count": 2,
   "metadata": {},
   "outputs": [
    {
     "data": {
      "text/plain": [
       "[1, 2]"
      ]
     },
     "execution_count": 2,
     "metadata": {},
     "output_type": "execute_result"
    }
   ],
   "source": [
    "searchTarget([1,2,2,3,4,5,6],2)"
   ]
  }
 ],
 "metadata": {
  "kernelspec": {
   "display_name": "Python 3",
   "language": "python",
   "name": "python3"
  },
  "language_info": {
   "codemirror_mode": {
    "name": "ipython",
    "version": 3
   },
   "file_extension": ".py",
   "mimetype": "text/x-python",
   "name": "python",
   "nbconvert_exporter": "python",
   "pygments_lexer": "ipython3",
   "version": "3.6.8"
  }
 },
 "nbformat": 4,
 "nbformat_minor": 2
}
